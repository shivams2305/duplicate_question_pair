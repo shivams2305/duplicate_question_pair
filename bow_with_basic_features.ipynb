{
 "cells": [
  {
   "cell_type": "code",
   "execution_count": 1,
   "id": "0593cc71-07d9-43c1-bc17-c1be29cbba09",
   "metadata": {},
   "outputs": [],
   "source": [
    "import numpy as np\n",
    "import pandas as pd\n",
    "import matplotlib.pyplot as plt\n",
    "import seaborn as sns\n",
    "\n",
    "import warnings\n",
    "warnings.filterwarnings('ignore')"
   ]
  },
  {
   "cell_type": "code",
   "execution_count": 2,
   "id": "bf1ebc27-ccd5-42bd-ac5f-ea9964d3aca7",
   "metadata": {},
   "outputs": [],
   "source": [
    "df = pd.read_csv('questions.csv')"
   ]
  },
  {
   "cell_type": "code",
   "execution_count": 3,
   "id": "fa20e6be-b1d9-448c-a9de-ad764e2ff60f",
   "metadata": {},
   "outputs": [],
   "source": [
    "df = pd.read_csv('questions.csv')"
   ]
  },
  {
   "cell_type": "code",
   "execution_count": 4,
   "id": "4fbe1ee0-a346-46c3-b3a3-64d47aededf2",
   "metadata": {},
   "outputs": [
    {
     "data": {
      "text/html": [
       "<div>\n",
       "<style scoped>\n",
       "    .dataframe tbody tr th:only-of-type {\n",
       "        vertical-align: middle;\n",
       "    }\n",
       "\n",
       "    .dataframe tbody tr th {\n",
       "        vertical-align: top;\n",
       "    }\n",
       "\n",
       "    .dataframe thead th {\n",
       "        text-align: right;\n",
       "    }\n",
       "</style>\n",
       "<table border=\"1\" class=\"dataframe\">\n",
       "  <thead>\n",
       "    <tr style=\"text-align: right;\">\n",
       "      <th></th>\n",
       "      <th>id</th>\n",
       "      <th>qid1</th>\n",
       "      <th>qid2</th>\n",
       "      <th>question1</th>\n",
       "      <th>question2</th>\n",
       "      <th>is_duplicate</th>\n",
       "    </tr>\n",
       "  </thead>\n",
       "  <tbody>\n",
       "    <tr>\n",
       "      <th>0</th>\n",
       "      <td>0</td>\n",
       "      <td>1</td>\n",
       "      <td>2</td>\n",
       "      <td>What is the step by step guide to invest in sh...</td>\n",
       "      <td>What is the step by step guide to invest in sh...</td>\n",
       "      <td>0</td>\n",
       "    </tr>\n",
       "    <tr>\n",
       "      <th>1</th>\n",
       "      <td>1</td>\n",
       "      <td>3</td>\n",
       "      <td>4</td>\n",
       "      <td>What is the story of Kohinoor (Koh-i-Noor) Dia...</td>\n",
       "      <td>What would happen if the Indian government sto...</td>\n",
       "      <td>0</td>\n",
       "    </tr>\n",
       "    <tr>\n",
       "      <th>2</th>\n",
       "      <td>2</td>\n",
       "      <td>5</td>\n",
       "      <td>6</td>\n",
       "      <td>How can I increase the speed of my internet co...</td>\n",
       "      <td>How can Internet speed be increased by hacking...</td>\n",
       "      <td>0</td>\n",
       "    </tr>\n",
       "    <tr>\n",
       "      <th>3</th>\n",
       "      <td>3</td>\n",
       "      <td>7</td>\n",
       "      <td>8</td>\n",
       "      <td>Why am I mentally very lonely? How can I solve...</td>\n",
       "      <td>Find the remainder when [math]23^{24}[/math] i...</td>\n",
       "      <td>0</td>\n",
       "    </tr>\n",
       "    <tr>\n",
       "      <th>4</th>\n",
       "      <td>4</td>\n",
       "      <td>9</td>\n",
       "      <td>10</td>\n",
       "      <td>Which one dissolve in water quikly sugar, salt...</td>\n",
       "      <td>Which fish would survive in salt water?</td>\n",
       "      <td>0</td>\n",
       "    </tr>\n",
       "  </tbody>\n",
       "</table>\n",
       "</div>"
      ],
      "text/plain": [
       "   id  qid1  qid2                                          question1  \\\n",
       "0   0     1     2  What is the step by step guide to invest in sh...   \n",
       "1   1     3     4  What is the story of Kohinoor (Koh-i-Noor) Dia...   \n",
       "2   2     5     6  How can I increase the speed of my internet co...   \n",
       "3   3     7     8  Why am I mentally very lonely? How can I solve...   \n",
       "4   4     9    10  Which one dissolve in water quikly sugar, salt...   \n",
       "\n",
       "                                           question2  is_duplicate  \n",
       "0  What is the step by step guide to invest in sh...             0  \n",
       "1  What would happen if the Indian government sto...             0  \n",
       "2  How can Internet speed be increased by hacking...             0  \n",
       "3  Find the remainder when [math]23^{24}[/math] i...             0  \n",
       "4            Which fish would survive in salt water?             0  "
      ]
     },
     "execution_count": 4,
     "metadata": {},
     "output_type": "execute_result"
    }
   ],
   "source": [
    "df.head()"
   ]
  },
  {
   "cell_type": "code",
   "execution_count": 5,
   "id": "7214ec0d-b7b2-4bc0-8dc7-8eb672ab1dc0",
   "metadata": {},
   "outputs": [],
   "source": [
    "new_df = df.sample(30000,random_state=2)"
   ]
  },
  {
   "cell_type": "code",
   "execution_count": 6,
   "id": "c2a12753-8567-4f3a-aeff-60eb48f27621",
   "metadata": {},
   "outputs": [
    {
     "data": {
      "text/plain": [
       "id              0\n",
       "qid1            0\n",
       "qid2            0\n",
       "question1       0\n",
       "question2       0\n",
       "is_duplicate    0\n",
       "dtype: int64"
      ]
     },
     "execution_count": 6,
     "metadata": {},
     "output_type": "execute_result"
    }
   ],
   "source": [
    "new_df.isnull().sum()"
   ]
  },
  {
   "cell_type": "code",
   "execution_count": 7,
   "id": "d69a48a4-4d01-4c1f-95cc-e2d93028b574",
   "metadata": {},
   "outputs": [
    {
     "data": {
      "text/html": [
       "<div>\n",
       "<style scoped>\n",
       "    .dataframe tbody tr th:only-of-type {\n",
       "        vertical-align: middle;\n",
       "    }\n",
       "\n",
       "    .dataframe tbody tr th {\n",
       "        vertical-align: top;\n",
       "    }\n",
       "\n",
       "    .dataframe thead th {\n",
       "        text-align: right;\n",
       "    }\n",
       "</style>\n",
       "<table border=\"1\" class=\"dataframe\">\n",
       "  <thead>\n",
       "    <tr style=\"text-align: right;\">\n",
       "      <th></th>\n",
       "      <th>id</th>\n",
       "      <th>qid1</th>\n",
       "      <th>qid2</th>\n",
       "      <th>question1</th>\n",
       "      <th>question2</th>\n",
       "      <th>is_duplicate</th>\n",
       "    </tr>\n",
       "  </thead>\n",
       "  <tbody>\n",
       "    <tr>\n",
       "      <th>339499</th>\n",
       "      <td>339499</td>\n",
       "      <td>665522</td>\n",
       "      <td>665523</td>\n",
       "      <td>Why was Cyrus Mistry removed as the Chairman o...</td>\n",
       "      <td>Why did the Tata Sons sacked Cyrus Mistry?</td>\n",
       "      <td>1</td>\n",
       "    </tr>\n",
       "    <tr>\n",
       "      <th>289521</th>\n",
       "      <td>289521</td>\n",
       "      <td>568878</td>\n",
       "      <td>568879</td>\n",
       "      <td>By what age would you think a man should be ma...</td>\n",
       "      <td>When my wrist is extended I feel a shock and b...</td>\n",
       "      <td>0</td>\n",
       "    </tr>\n",
       "    <tr>\n",
       "      <th>4665</th>\n",
       "      <td>4665</td>\n",
       "      <td>9325</td>\n",
       "      <td>9326</td>\n",
       "      <td>How would an arbitrageur seek to capitalize gi...</td>\n",
       "      <td>How would an arbitrageur seek to capitalize gi...</td>\n",
       "      <td>0</td>\n",
       "    </tr>\n",
       "    <tr>\n",
       "      <th>54203</th>\n",
       "      <td>54203</td>\n",
       "      <td>107861</td>\n",
       "      <td>107862</td>\n",
       "      <td>Why did Quora mark my question as incomplete?</td>\n",
       "      <td>Why does Quora detect my question as an incomp...</td>\n",
       "      <td>1</td>\n",
       "    </tr>\n",
       "    <tr>\n",
       "      <th>132566</th>\n",
       "      <td>132566</td>\n",
       "      <td>262554</td>\n",
       "      <td>91499</td>\n",
       "      <td>What is it like working with Pivotal Labs as a...</td>\n",
       "      <td>What's it like to work at Pivotal Labs?</td>\n",
       "      <td>0</td>\n",
       "    </tr>\n",
       "  </tbody>\n",
       "</table>\n",
       "</div>"
      ],
      "text/plain": [
       "            id    qid1    qid2  \\\n",
       "339499  339499  665522  665523   \n",
       "289521  289521  568878  568879   \n",
       "4665      4665    9325    9326   \n",
       "54203    54203  107861  107862   \n",
       "132566  132566  262554   91499   \n",
       "\n",
       "                                                question1  \\\n",
       "339499  Why was Cyrus Mistry removed as the Chairman o...   \n",
       "289521  By what age would you think a man should be ma...   \n",
       "4665    How would an arbitrageur seek to capitalize gi...   \n",
       "54203       Why did Quora mark my question as incomplete?   \n",
       "132566  What is it like working with Pivotal Labs as a...   \n",
       "\n",
       "                                                question2  is_duplicate  \n",
       "339499         Why did the Tata Sons sacked Cyrus Mistry?             1  \n",
       "289521  When my wrist is extended I feel a shock and b...             0  \n",
       "4665    How would an arbitrageur seek to capitalize gi...             0  \n",
       "54203   Why does Quora detect my question as an incomp...             1  \n",
       "132566            What's it like to work at Pivotal Labs?             0  "
      ]
     },
     "execution_count": 7,
     "metadata": {},
     "output_type": "execute_result"
    }
   ],
   "source": [
    "new_df.head()"
   ]
  },
  {
   "cell_type": "code",
   "execution_count": 8,
   "id": "c9137a3d-b2f8-42c5-80b3-22c83977ed70",
   "metadata": {},
   "outputs": [
    {
     "data": {
      "text/plain": [
       "np.int64(0)"
      ]
     },
     "execution_count": 8,
     "metadata": {},
     "output_type": "execute_result"
    }
   ],
   "source": [
    "new_df.duplicated().sum()"
   ]
  },
  {
   "cell_type": "code",
   "execution_count": 9,
   "id": "6f851c20-f6b6-441a-ae42-e6d4a6d18807",
   "metadata": {},
   "outputs": [
    {
     "name": "stdout",
     "output_type": "stream",
     "text": [
      "is_duplicate\n",
      "0    18918\n",
      "1    11082\n",
      "Name: count, dtype: int64\n",
      "is_duplicate\n",
      "0    63.06\n",
      "1    36.94\n",
      "Name: count, dtype: float64\n"
     ]
    },
    {
     "data": {
      "text/plain": [
       "<Axes: xlabel='is_duplicate'>"
      ]
     },
     "execution_count": 9,
     "metadata": {},
     "output_type": "execute_result"
    },
    {
     "data": {
      "image/png": "[encoded data removed]",
      "text/plain": [
       "<Figure size 640x480 with 1 Axes>"
      ]
     },
     "metadata": {},
     "output_type": "display_data"
    }
   ],
   "source": [
    "print(new_df['is_duplicate'].value_counts())\n",
    "print((new_df['is_duplicate'].value_counts()/new_df['is_duplicate'].count())*100)\n",
    "new_df['is_duplicate'].value_counts().plot(kind='bar')"
   ]
  },
  {
   "cell_type": "code",
   "execution_count": 10,
   "id": "cb0ae62c-fe80-4eba-ab58-13cfa862c824",
   "metadata": {},
   "outputs": [
    {
     "name": "stdout",
     "output_type": "stream",
     "text": [
      "Number of unique questions 59795\n",
      "Number of questions getting repeated 176\n"
     ]
    }
   ],
   "source": [
    "qid = pd.Series(new_df['qid1'].tolist() + new_df['qid2'].tolist())\n",
    "print('Number of unique questions',np.unique(qid).shape[0])\n",
    "x = qid.value_counts()>1\n",
    "print('Number of questions getting repeated',x[x].shape[0])"
   ]
  },
  {
   "cell_type": "code",
   "execution_count": 11,
   "id": "d2a68cd6-4b41-49a6-a670-e039eaf13703",
   "metadata": {},
   "outputs": [
    {
     "data": {
      "image/png": "[encoded data removed]",
      "text/plain": [
       "<Figure size 640x480 with 1 Axes>"
      ]
     },
     "metadata": {},
     "output_type": "display_data"
    }
   ],
   "source": [
    "plt.hist(qid.value_counts().values,bins=160)\n",
    "plt.yscale('log')\n",
    "plt.show()"
   ]
  },
  {
   "cell_type": "code",
   "execution_count": 12,
   "id": "dad5d4d3-1aea-4c80-be05-eb63d2c0390f",
   "metadata": {},
   "outputs": [],
   "source": [
    "new_df['q1_len'] = new_df['question1'].str.len() \n",
    "new_df['q2_len'] = new_df['question2'].str.len()"
   ]
  },
  {
   "cell_type": "code",
   "execution_count": 13,
   "id": "5c2db97a-1586-4606-82e8-dda33497402f",
   "metadata": {},
   "outputs": [
    {
     "data": {
      "text/html": [
       "<div>\n",
       "<style scoped>\n",
       "    .dataframe tbody tr th:only-of-type {\n",
       "        vertical-align: middle;\n",
       "    }\n",
       "\n",
       "    .dataframe tbody tr th {\n",
       "        vertical-align: top;\n",
       "    }\n",
       "\n",
       "    .dataframe thead th {\n",
       "        text-align: right;\n",
       "    }\n",
       "</style>\n",
       "<table border=\"1\" class=\"dataframe\">\n",
       "  <thead>\n",
       "    <tr style=\"text-align: right;\">\n",
       "      <th></th>\n",
       "      <th>id</th>\n",
       "      <th>qid1</th>\n",
       "      <th>qid2</th>\n",
       "      <th>question1</th>\n",
       "      <th>question2</th>\n",
       "      <th>is_duplicate</th>\n",
       "      <th>q1_len</th>\n",
       "      <th>q2_len</th>\n",
       "    </tr>\n",
       "  </thead>\n",
       "  <tbody>\n",
       "    <tr>\n",
       "      <th>339499</th>\n",
       "      <td>339499</td>\n",
       "      <td>665522</td>\n",
       "      <td>665523</td>\n",
       "      <td>Why was Cyrus Mistry removed as the Chairman o...</td>\n",
       "      <td>Why did the Tata Sons sacked Cyrus Mistry?</td>\n",
       "      <td>1</td>\n",
       "      <td>58</td>\n",
       "      <td>42</td>\n",
       "    </tr>\n",
       "    <tr>\n",
       "      <th>289521</th>\n",
       "      <td>289521</td>\n",
       "      <td>568878</td>\n",
       "      <td>568879</td>\n",
       "      <td>By what age would you think a man should be ma...</td>\n",
       "      <td>When my wrist is extended I feel a shock and b...</td>\n",
       "      <td>0</td>\n",
       "      <td>52</td>\n",
       "      <td>105</td>\n",
       "    </tr>\n",
       "    <tr>\n",
       "      <th>4665</th>\n",
       "      <td>4665</td>\n",
       "      <td>9325</td>\n",
       "      <td>9326</td>\n",
       "      <td>How would an arbitrageur seek to capitalize gi...</td>\n",
       "      <td>How would an arbitrageur seek to capitalize gi...</td>\n",
       "      <td>0</td>\n",
       "      <td>125</td>\n",
       "      <td>124</td>\n",
       "    </tr>\n",
       "    <tr>\n",
       "      <th>54203</th>\n",
       "      <td>54203</td>\n",
       "      <td>107861</td>\n",
       "      <td>107862</td>\n",
       "      <td>Why did Quora mark my question as incomplete?</td>\n",
       "      <td>Why does Quora detect my question as an incomp...</td>\n",
       "      <td>1</td>\n",
       "      <td>45</td>\n",
       "      <td>60</td>\n",
       "    </tr>\n",
       "    <tr>\n",
       "      <th>132566</th>\n",
       "      <td>132566</td>\n",
       "      <td>262554</td>\n",
       "      <td>91499</td>\n",
       "      <td>What is it like working with Pivotal Labs as a...</td>\n",
       "      <td>What's it like to work at Pivotal Labs?</td>\n",
       "      <td>0</td>\n",
       "      <td>54</td>\n",
       "      <td>39</td>\n",
       "    </tr>\n",
       "  </tbody>\n",
       "</table>\n",
       "</div>"
      ],
      "text/plain": [
       "            id    qid1    qid2  \\\n",
       "339499  339499  665522  665523   \n",
       "289521  289521  568878  568879   \n",
       "4665      4665    9325    9326   \n",
       "54203    54203  107861  107862   \n",
       "132566  132566  262554   91499   \n",
       "\n",
       "                                                question1  \\\n",
       "339499  Why was Cyrus Mistry removed as the Chairman o...   \n",
       "289521  By what age would you think a man should be ma...   \n",
       "4665    How would an arbitrageur seek to capitalize gi...   \n",
       "54203       Why did Quora mark my question as incomplete?   \n",
       "132566  What is it like working with Pivotal Labs as a...   \n",
       "\n",
       "                                                question2  is_duplicate  \\\n",
       "339499         Why did the Tata Sons sacked Cyrus Mistry?             1   \n",
       "289521  When my wrist is extended I feel a shock and b...             0   \n",
       "4665    How would an arbitrageur seek to capitalize gi...             0   \n",
       "54203   Why does Quora detect my question as an incomp...             1   \n",
       "132566            What's it like to work at Pivotal Labs?             0   \n",
       "\n",
       "        q1_len  q2_len  \n",
       "339499      58      42  \n",
       "289521      52     105  \n",
       "4665       125     124  \n",
       "54203       45      60  \n",
       "132566      54      39  "
      ]
     },
     "execution_count": 13,
     "metadata": {},
     "output_type": "execute_result"
    }
   ],
   "source": [
    "new_df.head()"
   ]
  },
  {
   "cell_type": "code",
   "execution_count": 14,
   "id": "ae277201-73d7-4b3f-b27c-239f29da173b",
   "metadata": {},
   "outputs": [
    {
     "data": {
      "text/html": [
       "<div>\n",
       "<style scoped>\n",
       "    .dataframe tbody tr th:only-of-type {\n",
       "        vertical-align: middle;\n",
       "    }\n",
       "\n",
       "    .dataframe tbody tr th {\n",
       "        vertical-align: top;\n",
       "    }\n",
       "\n",
       "    .dataframe thead th {\n",
       "        text-align: right;\n",
       "    }\n",
       "</style>\n",
       "<table border=\"1\" class=\"dataframe\">\n",
       "  <thead>\n",
       "    <tr style=\"text-align: right;\">\n",
       "      <th></th>\n",
       "      <th>id</th>\n",
       "      <th>qid1</th>\n",
       "      <th>qid2</th>\n",
       "      <th>question1</th>\n",
       "      <th>question2</th>\n",
       "      <th>is_duplicate</th>\n",
       "      <th>q1_len</th>\n",
       "      <th>q2_len</th>\n",
       "      <th>q1_num_words</th>\n",
       "      <th>q2_num_words</th>\n",
       "    </tr>\n",
       "  </thead>\n",
       "  <tbody>\n",
       "    <tr>\n",
       "      <th>339499</th>\n",
       "      <td>339499</td>\n",
       "      <td>665522</td>\n",
       "      <td>665523</td>\n",
       "      <td>Why was Cyrus Mistry removed as the Chairman o...</td>\n",
       "      <td>Why did the Tata Sons sacked Cyrus Mistry?</td>\n",
       "      <td>1</td>\n",
       "      <td>58</td>\n",
       "      <td>42</td>\n",
       "      <td>11</td>\n",
       "      <td>8</td>\n",
       "    </tr>\n",
       "    <tr>\n",
       "      <th>289521</th>\n",
       "      <td>289521</td>\n",
       "      <td>568878</td>\n",
       "      <td>568879</td>\n",
       "      <td>By what age would you think a man should be ma...</td>\n",
       "      <td>When my wrist is extended I feel a shock and b...</td>\n",
       "      <td>0</td>\n",
       "      <td>52</td>\n",
       "      <td>105</td>\n",
       "      <td>11</td>\n",
       "      <td>22</td>\n",
       "    </tr>\n",
       "    <tr>\n",
       "      <th>4665</th>\n",
       "      <td>4665</td>\n",
       "      <td>9325</td>\n",
       "      <td>9326</td>\n",
       "      <td>How would an arbitrageur seek to capitalize gi...</td>\n",
       "      <td>How would an arbitrageur seek to capitalize gi...</td>\n",
       "      <td>0</td>\n",
       "      <td>125</td>\n",
       "      <td>124</td>\n",
       "      <td>24</td>\n",
       "      <td>24</td>\n",
       "    </tr>\n",
       "    <tr>\n",
       "      <th>54203</th>\n",
       "      <td>54203</td>\n",
       "      <td>107861</td>\n",
       "      <td>107862</td>\n",
       "      <td>Why did Quora mark my question as incomplete?</td>\n",
       "      <td>Why does Quora detect my question as an incomp...</td>\n",
       "      <td>1</td>\n",
       "      <td>45</td>\n",
       "      <td>60</td>\n",
       "      <td>8</td>\n",
       "      <td>10</td>\n",
       "    </tr>\n",
       "    <tr>\n",
       "      <th>132566</th>\n",
       "      <td>132566</td>\n",
       "      <td>262554</td>\n",
       "      <td>91499</td>\n",
       "      <td>What is it like working with Pivotal Labs as a...</td>\n",
       "      <td>What's it like to work at Pivotal Labs?</td>\n",
       "      <td>0</td>\n",
       "      <td>54</td>\n",
       "      <td>39</td>\n",
       "      <td>11</td>\n",
       "      <td>8</td>\n",
       "    </tr>\n",
       "  </tbody>\n",
       "</table>\n",
       "</div>"
      ],
      "text/plain": [
       "            id    qid1    qid2  \\\n",
       "339499  339499  665522  665523   \n",
       "289521  289521  568878  568879   \n",
       "4665      4665    9325    9326   \n",
       "54203    54203  107861  107862   \n",
       "132566  132566  262554   91499   \n",
       "\n",
       "                                                question1  \\\n",
       "339499  Why was Cyrus Mistry removed as the Chairman o...   \n",
       "289521  By what age would you think a man should be ma...   \n",
       "4665    How would an arbitrageur seek to capitalize gi...   \n",
       "54203       Why did Quora mark my question as incomplete?   \n",
       "132566  What is it like working with Pivotal Labs as a...   \n",
       "\n",
       "                                                question2  is_duplicate  \\\n",
       "339499         Why did the Tata Sons sacked Cyrus Mistry?             1   \n",
       "289521  When my wrist is extended I feel a shock and b...             0   \n",
       "4665    How would an arbitrageur seek to capitalize gi...             0   \n",
       "54203   Why does Quora detect my question as an incomp...             1   \n",
       "132566            What's it like to work at Pivotal Labs?             0   \n",
       "\n",
       "        q1_len  q2_len  q1_num_words  q2_num_words  \n",
       "339499      58      42            11             8  \n",
       "289521      52     105            11            22  \n",
       "4665       125     124            24            24  \n",
       "54203       45      60             8            10  \n",
       "132566      54      39            11             8  "
      ]
     },
     "execution_count": 14,
     "metadata": {},
     "output_type": "execute_result"
    }
   ],
   "source": [
    "new_df['q1_num_words'] = new_df['question1'].apply(lambda row: len(row.split(\" \")))\n",
    "new_df['q2_num_words'] = new_df['question2'].apply(lambda row: len(row.split(\" \")))\n",
    "new_df.head()"
   ]
  },
  {
   "cell_type": "code",
   "execution_count": 15,
   "id": "5df483be-e966-4d3c-a306-2bc431f474b3",
   "metadata": {},
   "outputs": [],
   "source": [
    "def common_words(row):\n",
    "    w1 = set(map(lambda word: word.lower().strip(), row['question1'].split(\" \")))\n",
    "    w2 = set(map(lambda word: word.lower().strip(), row['question2'].split(\" \")))    \n",
    "    return len(w1 & w2)"
   ]
  },
  {
   "cell_type": "code",
   "execution_count": 16,
   "id": "d611e234-dc7e-4b13-abe2-b312044c2cdc",
   "metadata": {},
   "outputs": [
    {
     "data": {
      "text/html": [
       "<div>\n",
       "<style scoped>\n",
       "    .dataframe tbody tr th:only-of-type {\n",
       "        vertical-align: middle;\n",
       "    }\n",
       "\n",
       "    .dataframe tbody tr th {\n",
       "        vertical-align: top;\n",
       "    }\n",
       "\n",
       "    .dataframe thead th {\n",
       "        text-align: right;\n",
       "    }\n",
       "</style>\n",
       "<table border=\"1\" class=\"dataframe\">\n",
       "  <thead>\n",
       "    <tr style=\"text-align: right;\">\n",
       "      <th></th>\n",
       "      <th>id</th>\n",
       "      <th>qid1</th>\n",
       "      <th>qid2</th>\n",
       "      <th>question1</th>\n",
       "      <th>question2</th>\n",
       "      <th>is_duplicate</th>\n",
       "      <th>q1_len</th>\n",
       "      <th>q2_len</th>\n",
       "      <th>q1_num_words</th>\n",
       "      <th>q2_num_words</th>\n",
       "      <th>word_common</th>\n",
       "    </tr>\n",
       "  </thead>\n",
       "  <tbody>\n",
       "    <tr>\n",
       "      <th>339499</th>\n",
       "      <td>339499</td>\n",
       "      <td>665522</td>\n",
       "      <td>665523</td>\n",
       "      <td>Why was Cyrus Mistry removed as the Chairman o...</td>\n",
       "      <td>Why did the Tata Sons sacked Cyrus Mistry?</td>\n",
       "      <td>1</td>\n",
       "      <td>58</td>\n",
       "      <td>42</td>\n",
       "      <td>11</td>\n",
       "      <td>8</td>\n",
       "      <td>4</td>\n",
       "    </tr>\n",
       "    <tr>\n",
       "      <th>289521</th>\n",
       "      <td>289521</td>\n",
       "      <td>568878</td>\n",
       "      <td>568879</td>\n",
       "      <td>By what age would you think a man should be ma...</td>\n",
       "      <td>When my wrist is extended I feel a shock and b...</td>\n",
       "      <td>0</td>\n",
       "      <td>52</td>\n",
       "      <td>105</td>\n",
       "      <td>11</td>\n",
       "      <td>22</td>\n",
       "      <td>2</td>\n",
       "    </tr>\n",
       "    <tr>\n",
       "      <th>4665</th>\n",
       "      <td>4665</td>\n",
       "      <td>9325</td>\n",
       "      <td>9326</td>\n",
       "      <td>How would an arbitrageur seek to capitalize gi...</td>\n",
       "      <td>How would an arbitrageur seek to capitalize gi...</td>\n",
       "      <td>0</td>\n",
       "      <td>125</td>\n",
       "      <td>124</td>\n",
       "      <td>24</td>\n",
       "      <td>24</td>\n",
       "      <td>20</td>\n",
       "    </tr>\n",
       "    <tr>\n",
       "      <th>54203</th>\n",
       "      <td>54203</td>\n",
       "      <td>107861</td>\n",
       "      <td>107862</td>\n",
       "      <td>Why did Quora mark my question as incomplete?</td>\n",
       "      <td>Why does Quora detect my question as an incomp...</td>\n",
       "      <td>1</td>\n",
       "      <td>45</td>\n",
       "      <td>60</td>\n",
       "      <td>8</td>\n",
       "      <td>10</td>\n",
       "      <td>5</td>\n",
       "    </tr>\n",
       "    <tr>\n",
       "      <th>132566</th>\n",
       "      <td>132566</td>\n",
       "      <td>262554</td>\n",
       "      <td>91499</td>\n",
       "      <td>What is it like working with Pivotal Labs as a...</td>\n",
       "      <td>What's it like to work at Pivotal Labs?</td>\n",
       "      <td>0</td>\n",
       "      <td>54</td>\n",
       "      <td>39</td>\n",
       "      <td>11</td>\n",
       "      <td>8</td>\n",
       "      <td>3</td>\n",
       "    </tr>\n",
       "  </tbody>\n",
       "</table>\n",
       "</div>"
      ],
      "text/plain": [
       "            id    qid1    qid2  \\\n",
       "339499  339499  665522  665523   \n",
       "289521  289521  568878  568879   \n",
       "4665      4665    9325    9326   \n",
       "54203    54203  107861  107862   \n",
       "132566  132566  262554   91499   \n",
       "\n",
       "                                                question1  \\\n",
       "339499  Why was Cyrus Mistry removed as the Chairman o...   \n",
       "289521  By what age would you think a man should be ma...   \n",
       "4665    How would an arbitrageur seek to capitalize gi...   \n",
       "54203       Why did Quora mark my question as incomplete?   \n",
       "132566  What is it like working with Pivotal Labs as a...   \n",
       "\n",
       "                                                question2  is_duplicate  \\\n",
       "339499         Why did the Tata Sons sacked Cyrus Mistry?             1   \n",
       "289521  When my wrist is extended I feel a shock and b...             0   \n",
       "4665    How would an arbitrageur seek to capitalize gi...             0   \n",
       "54203   Why does Quora detect my question as an incomp...             1   \n",
       "132566            What's it like to work at Pivotal Labs?             0   \n",
       "\n",
       "        q1_len  q2_len  q1_num_words  q2_num_words  word_common  \n",
       "339499      58      42            11             8            4  \n",
       "289521      52     105            11            22            2  \n",
       "4665       125     124            24            24           20  \n",
       "54203       45      60             8            10            5  \n",
       "132566      54      39            11             8            3  "
      ]
     },
     "execution_count": 16,
     "metadata": {},
     "output_type": "execute_result"
    }
   ],
   "source": [
    "new_df['word_common'] = new_df.apply(common_words, axis=1)\n",
    "new_df.head()"
   ]
  },
  {
   "cell_type": "code",
   "execution_count": 17,
   "id": "b872fc94-1a8e-436b-afaa-7e8aa3be91c2",
   "metadata": {},
   "outputs": [],
   "source": [
    "def total_words(row):\n",
    "    w1 = set(map(lambda word: word.lower().strip(), row['question1'].split(\" \")))\n",
    "    w2 = set(map(lambda word: word.lower().strip(), row['question2'].split(\" \")))    \n",
    "    return (len(w1) + len(w2))"
   ]
  },
  {
   "cell_type": "code",
   "execution_count": 18,
   "id": "51c9f7a5-b948-435d-b321-c6e9d82d2df6",
   "metadata": {},
   "outputs": [
    {
     "data": {
      "text/html": [
       "<div>\n",
       "<style scoped>\n",
       "    .dataframe tbody tr th:only-of-type {\n",
       "        vertical-align: middle;\n",
       "    }\n",
       "\n",
       "    .dataframe tbody tr th {\n",
       "        vertical-align: top;\n",
       "    }\n",
       "\n",
       "    .dataframe thead th {\n",
       "        text-align: right;\n",
       "    }\n",
       "</style>\n",
       "<table border=\"1\" class=\"dataframe\">\n",
       "  <thead>\n",
       "    <tr style=\"text-align: right;\">\n",
       "      <th></th>\n",
       "      <th>id</th>\n",
       "      <th>qid1</th>\n",
       "      <th>qid2</th>\n",
       "      <th>question1</th>\n",
       "      <th>question2</th>\n",
       "      <th>is_duplicate</th>\n",
       "      <th>q1_len</th>\n",
       "      <th>q2_len</th>\n",
       "      <th>q1_num_words</th>\n",
       "      <th>q2_num_words</th>\n",
       "      <th>word_common</th>\n",
       "      <th>word_total</th>\n",
       "    </tr>\n",
       "  </thead>\n",
       "  <tbody>\n",
       "    <tr>\n",
       "      <th>339499</th>\n",
       "      <td>339499</td>\n",
       "      <td>665522</td>\n",
       "      <td>665523</td>\n",
       "      <td>Why was Cyrus Mistry removed as the Chairman o...</td>\n",
       "      <td>Why did the Tata Sons sacked Cyrus Mistry?</td>\n",
       "      <td>1</td>\n",
       "      <td>58</td>\n",
       "      <td>42</td>\n",
       "      <td>11</td>\n",
       "      <td>8</td>\n",
       "      <td>4</td>\n",
       "      <td>19</td>\n",
       "    </tr>\n",
       "    <tr>\n",
       "      <th>289521</th>\n",
       "      <td>289521</td>\n",
       "      <td>568878</td>\n",
       "      <td>568879</td>\n",
       "      <td>By what age would you think a man should be ma...</td>\n",
       "      <td>When my wrist is extended I feel a shock and b...</td>\n",
       "      <td>0</td>\n",
       "      <td>52</td>\n",
       "      <td>105</td>\n",
       "      <td>11</td>\n",
       "      <td>22</td>\n",
       "      <td>2</td>\n",
       "      <td>32</td>\n",
       "    </tr>\n",
       "    <tr>\n",
       "      <th>4665</th>\n",
       "      <td>4665</td>\n",
       "      <td>9325</td>\n",
       "      <td>9326</td>\n",
       "      <td>How would an arbitrageur seek to capitalize gi...</td>\n",
       "      <td>How would an arbitrageur seek to capitalize gi...</td>\n",
       "      <td>0</td>\n",
       "      <td>125</td>\n",
       "      <td>124</td>\n",
       "      <td>24</td>\n",
       "      <td>24</td>\n",
       "      <td>20</td>\n",
       "      <td>42</td>\n",
       "    </tr>\n",
       "    <tr>\n",
       "      <th>54203</th>\n",
       "      <td>54203</td>\n",
       "      <td>107861</td>\n",
       "      <td>107862</td>\n",
       "      <td>Why did Quora mark my question as incomplete?</td>\n",
       "      <td>Why does Quora detect my question as an incomp...</td>\n",
       "      <td>1</td>\n",
       "      <td>45</td>\n",
       "      <td>60</td>\n",
       "      <td>8</td>\n",
       "      <td>10</td>\n",
       "      <td>5</td>\n",
       "      <td>18</td>\n",
       "    </tr>\n",
       "    <tr>\n",
       "      <th>132566</th>\n",
       "      <td>132566</td>\n",
       "      <td>262554</td>\n",
       "      <td>91499</td>\n",
       "      <td>What is it like working with Pivotal Labs as a...</td>\n",
       "      <td>What's it like to work at Pivotal Labs?</td>\n",
       "      <td>0</td>\n",
       "      <td>54</td>\n",
       "      <td>39</td>\n",
       "      <td>11</td>\n",
       "      <td>8</td>\n",
       "      <td>3</td>\n",
       "      <td>19</td>\n",
       "    </tr>\n",
       "  </tbody>\n",
       "</table>\n",
       "</div>"
      ],
      "text/plain": [
       "            id    qid1    qid2  \\\n",
       "339499  339499  665522  665523   \n",
       "289521  289521  568878  568879   \n",
       "4665      4665    9325    9326   \n",
       "54203    54203  107861  107862   \n",
       "132566  132566  262554   91499   \n",
       "\n",
       "                                                question1  \\\n",
       "339499  Why was Cyrus Mistry removed as the Chairman o...   \n",
       "289521  By what age would you think a man should be ma...   \n",
       "4665    How would an arbitrageur seek to capitalize gi...   \n",
       "54203       Why did Quora mark my question as incomplete?   \n",
       "132566  What is it like working with Pivotal Labs as a...   \n",
       "\n",
       "                                                question2  is_duplicate  \\\n",
       "339499         Why did the Tata Sons sacked Cyrus Mistry?             1   \n",
       "289521  When my wrist is extended I feel a shock and b...             0   \n",
       "4665    How would an arbitrageur seek to capitalize gi...             0   \n",
       "54203   Why does Quora detect my question as an incomp...             1   \n",
       "132566            What's it like to work at Pivotal Labs?             0   \n",
       "\n",
       "        q1_len  q2_len  q1_num_words  q2_num_words  word_common  word_total  \n",
       "339499      58      42            11             8            4          19  \n",
       "289521      52     105            11            22            2          32  \n",
       "4665       125     124            24            24           20          42  \n",
       "54203       45      60             8            10            5          18  \n",
       "132566      54      39            11             8            3          19  "
      ]
     },
     "execution_count": 18,
     "metadata": {},
     "output_type": "execute_result"
    }
   ],
   "source": [
    "new_df['word_total'] = new_df.apply(total_words, axis=1)\n",
    "new_df.head()"
   ]
  },
  {
   "cell_type": "code",
   "execution_count": 19,
   "id": "37d27360-491f-418b-abfb-9c4cb11bdb3a",
   "metadata": {},
   "outputs": [
    {
     "data": {
      "text/html": [
       "<div>\n",
       "<style scoped>\n",
       "    .dataframe tbody tr th:only-of-type {\n",
       "        vertical-align: middle;\n",
       "    }\n",
       "\n",
       "    .dataframe tbody tr th {\n",
       "        vertical-align: top;\n",
       "    }\n",
       "\n",
       "    .dataframe thead th {\n",
       "        text-align: right;\n",
       "    }\n",
       "</style>\n",
       "<table border=\"1\" class=\"dataframe\">\n",
       "  <thead>\n",
       "    <tr style=\"text-align: right;\">\n",
       "      <th></th>\n",
       "      <th>id</th>\n",
       "      <th>qid1</th>\n",
       "      <th>qid2</th>\n",
       "      <th>question1</th>\n",
       "      <th>question2</th>\n",
       "      <th>is_duplicate</th>\n",
       "      <th>q1_len</th>\n",
       "      <th>q2_len</th>\n",
       "      <th>q1_num_words</th>\n",
       "      <th>q2_num_words</th>\n",
       "      <th>word_common</th>\n",
       "      <th>word_total</th>\n",
       "      <th>word_share</th>\n",
       "    </tr>\n",
       "  </thead>\n",
       "  <tbody>\n",
       "    <tr>\n",
       "      <th>339499</th>\n",
       "      <td>339499</td>\n",
       "      <td>665522</td>\n",
       "      <td>665523</td>\n",
       "      <td>Why was Cyrus Mistry removed as the Chairman o...</td>\n",
       "      <td>Why did the Tata Sons sacked Cyrus Mistry?</td>\n",
       "      <td>1</td>\n",
       "      <td>58</td>\n",
       "      <td>42</td>\n",
       "      <td>11</td>\n",
       "      <td>8</td>\n",
       "      <td>4</td>\n",
       "      <td>19</td>\n",
       "      <td>0.21</td>\n",
       "    </tr>\n",
       "    <tr>\n",
       "      <th>289521</th>\n",
       "      <td>289521</td>\n",
       "      <td>568878</td>\n",
       "      <td>568879</td>\n",
       "      <td>By what age would you think a man should be ma...</td>\n",
       "      <td>When my wrist is extended I feel a shock and b...</td>\n",
       "      <td>0</td>\n",
       "      <td>52</td>\n",
       "      <td>105</td>\n",
       "      <td>11</td>\n",
       "      <td>22</td>\n",
       "      <td>2</td>\n",
       "      <td>32</td>\n",
       "      <td>0.06</td>\n",
       "    </tr>\n",
       "    <tr>\n",
       "      <th>4665</th>\n",
       "      <td>4665</td>\n",
       "      <td>9325</td>\n",
       "      <td>9326</td>\n",
       "      <td>How would an arbitrageur seek to capitalize gi...</td>\n",
       "      <td>How would an arbitrageur seek to capitalize gi...</td>\n",
       "      <td>0</td>\n",
       "      <td>125</td>\n",
       "      <td>124</td>\n",
       "      <td>24</td>\n",
       "      <td>24</td>\n",
       "      <td>20</td>\n",
       "      <td>42</td>\n",
       "      <td>0.48</td>\n",
       "    </tr>\n",
       "    <tr>\n",
       "      <th>54203</th>\n",
       "      <td>54203</td>\n",
       "      <td>107861</td>\n",
       "      <td>107862</td>\n",
       "      <td>Why did Quora mark my question as incomplete?</td>\n",
       "      <td>Why does Quora detect my question as an incomp...</td>\n",
       "      <td>1</td>\n",
       "      <td>45</td>\n",
       "      <td>60</td>\n",
       "      <td>8</td>\n",
       "      <td>10</td>\n",
       "      <td>5</td>\n",
       "      <td>18</td>\n",
       "      <td>0.28</td>\n",
       "    </tr>\n",
       "    <tr>\n",
       "      <th>132566</th>\n",
       "      <td>132566</td>\n",
       "      <td>262554</td>\n",
       "      <td>91499</td>\n",
       "      <td>What is it like working with Pivotal Labs as a...</td>\n",
       "      <td>What's it like to work at Pivotal Labs?</td>\n",
       "      <td>0</td>\n",
       "      <td>54</td>\n",
       "      <td>39</td>\n",
       "      <td>11</td>\n",
       "      <td>8</td>\n",
       "      <td>3</td>\n",
       "      <td>19</td>\n",
       "      <td>0.16</td>\n",
       "    </tr>\n",
       "  </tbody>\n",
       "</table>\n",
       "</div>"
      ],
      "text/plain": [
       "            id    qid1    qid2  \\\n",
       "339499  339499  665522  665523   \n",
       "289521  289521  568878  568879   \n",
       "4665      4665    9325    9326   \n",
       "54203    54203  107861  107862   \n",
       "132566  132566  262554   91499   \n",
       "\n",
       "                                                question1  \\\n",
       "339499  Why was Cyrus Mistry removed as the Chairman o...   \n",
       "289521  By what age would you think a man should be ma...   \n",
       "4665    How would an arbitrageur seek to capitalize gi...   \n",
       "54203       Why did Quora mark my question as incomplete?   \n",
       "132566  What is it like working with Pivotal Labs as a...   \n",
       "\n",
       "                                                question2  is_duplicate  \\\n",
       "339499         Why did the Tata Sons sacked Cyrus Mistry?             1   \n",
       "289521  When my wrist is extended I feel a shock and b...             0   \n",
       "4665    How would an arbitrageur seek to capitalize gi...             0   \n",
       "54203   Why does Quora detect my question as an incomp...             1   \n",
       "132566            What's it like to work at Pivotal Labs?             0   \n",
       "\n",
       "        q1_len  q2_len  q1_num_words  q2_num_words  word_common  word_total  \\\n",
       "339499      58      42            11             8            4          19   \n",
       "289521      52     105            11            22            2          32   \n",
       "4665       125     124            24            24           20          42   \n",
       "54203       45      60             8            10            5          18   \n",
       "132566      54      39            11             8            3          19   \n",
       "\n",
       "        word_share  \n",
       "339499        0.21  \n",
       "289521        0.06  \n",
       "4665          0.48  \n",
       "54203         0.28  \n",
       "132566        0.16  "
      ]
     },
     "execution_count": 19,
     "metadata": {},
     "output_type": "execute_result"
    }
   ],
   "source": [
    "new_df['word_share'] = round(new_df['word_common']/new_df['word_total'],2)\n",
    "new_df.head()"
   ]
  },
  {
   "cell_type": "code",
   "execution_count": 20,
   "id": "39cbd4df-1b78-4308-9f79-d5328a7c1b23",
   "metadata": {},
   "outputs": [
    {
     "name": "stdout",
     "output_type": "stream",
     "text": [
      "minimum characters 2\n",
      "maximum characters 332\n",
      "average num of characters 59\n"
     ]
    },
    {
     "data": {
      "image/png": "[encoded data removed]",
      "text/plain": [
       "<Figure size 500x500 with 1 Axes>"
      ]
     },
     "metadata": {},
     "output_type": "display_data"
    }
   ],
   "source": [
    "# Analysis of features\n",
    "sns.displot(new_df['q1_len'])\n",
    "print('minimum characters',new_df['q1_len'].min())\n",
    "print('maximum characters',new_df['q1_len'].max())\n",
    "print('average num of characters',int(new_df['q1_len'].mean()))"
   ]
  },
  {
   "cell_type": "code",
   "execution_count": 21,
   "id": "9fb205de-00ec-43d0-a331-89a5fb6e3932",
   "metadata": {},
   "outputs": [
    {
     "name": "stdout",
     "output_type": "stream",
     "text": [
      "minimum characters 3\n",
      "maximum characters 1151\n",
      "average num of characters 59\n"
     ]
    },
    {
     "data": {
      "image/png": "[encoded data removed]",
      "text/plain": [
       "<Figure size 500x500 with 1 Axes>"
      ]
     },
     "metadata": {},
     "output_type": "display_data"
    }
   ],
   "source": [
    "sns.displot(new_df['q2_len'])\n",
    "print('minimum characters',new_df['q2_len'].min())\n",
    "print('maximum characters',new_df['q2_len'].max())\n",
    "print('average num of characters',int(new_df['q2_len'].mean()))"
   ]
  },
  {
   "cell_type": "code",
   "execution_count": 22,
   "id": "5c0a816b-efb7-4dd2-86a6-8fd6f4c808bd",
   "metadata": {},
   "outputs": [
    {
     "name": "stdout",
     "output_type": "stream",
     "text": [
      "minimum words 1\n",
      "maximum words 63\n",
      "average num of words 10\n"
     ]
    },
    {
     "data": {
      "image/png": "[encoded data removed]",
      "text/plain": [
       "<Figure size 500x500 with 1 Axes>"
      ]
     },
     "metadata": {},
     "output_type": "display_data"
    }
   ],
   "source": [
    "sns.displot(new_df['q1_num_words'])\n",
    "print('minimum words',new_df['q1_num_words'].min())\n",
    "print('maximum words',new_df['q1_num_words'].max())\n",
    "print('average num of words',int(new_df['q1_num_words'].mean()))"
   ]
  },
  {
   "cell_type": "code",
   "execution_count": 23,
   "id": "9d6fc43c-318f-4f61-9e62-1924d596f02d",
   "metadata": {},
   "outputs": [
    {
     "name": "stdout",
     "output_type": "stream",
     "text": [
      "minimum words 1\n",
      "maximum words 237\n",
      "average num of words 11\n"
     ]
    },
    {
     "data": {
      "image/png": "[encoded data removed]",
      "text/plain": [
       "<Figure size 500x500 with 1 Axes>"
      ]
     },
     "metadata": {},
     "output_type": "display_data"
    }
   ],
   "source": [
    "sns.displot(new_df['q2_num_words'])\n",
    "print('minimum words',new_df['q2_num_words'].min())\n",
    "print('maximum words',new_df['q2_num_words'].max())\n",
    "print('average num of words',int(new_df['q2_num_words'].mean()))"
   ]
  },
  {
   "cell_type": "code",
   "execution_count": 24,
   "id": "957de591-1456-4ca8-8d25-7070fa892c7f",
   "metadata": {},
   "outputs": [
    {
     "data": {
      "image/png": "[encoded data removed]",
      "text/plain": [
       "<Figure size 640x480 with 1 Axes>"
      ]
     },
     "metadata": {},
     "output_type": "display_data"
    }
   ],
   "source": [
    "sns.distplot(new_df[new_df['is_duplicate'] == 0]['word_common'],label='non duplicate')\n",
    "sns.distplot(new_df[new_df['is_duplicate'] == 1]['word_common'],label='duplicate')\n",
    "plt.legend()\n",
    "plt.show()"
   ]
  },
  {
   "cell_type": "code",
   "execution_count": 25,
   "id": "a2e01692-b73b-4436-ad49-49f9ce105efd",
   "metadata": {},
   "outputs": [
    {
     "data": {
      "image/png": "[encoded data removed]",
      "text/plain": [
       "<Figure size 640x480 with 1 Axes>"
      ]
     },
     "metadata": {},
     "output_type": "display_data"
    }
   ],
   "source": [
    "sns.distplot(new_df[new_df['is_duplicate'] == 0]['word_total'],label='non duplicate')\n",
    "sns.distplot(new_df[new_df['is_duplicate'] == 1]['word_total'],label='duplicate')\n",
    "plt.legend()\n",
    "plt.show()"
   ]
  },
  {
   "cell_type": "code",
   "execution_count": 26,
   "id": "a69d6699-8fcc-44fd-bdc6-efad724028ab",
   "metadata": {},
   "outputs": [
    {
     "data": {
      "image/png": "[encoded data removed]",
      "text/plain": [
       "<Figure size 640x480 with 1 Axes>"
      ]
     },
     "metadata": {},
     "output_type": "display_data"
    }
   ],
   "source": [
    "sns.distplot(new_df[new_df['is_duplicate'] == 0]['word_share'],label='non duplicate')\n",
    "sns.distplot(new_df[new_df['is_duplicate'] == 1]['word_share'],label='duplicate')\n",
    "plt.legend()\n",
    "plt.show()"
   ]
  },
  {
   "cell_type": "code",
   "execution_count": 27,
   "id": "d41f7289-4f96-43f8-9da6-5a50c3d02296",
   "metadata": {},
   "outputs": [
    {
     "data": {
      "text/html": [
       "<div>\n",
       "<style scoped>\n",
       "    .dataframe tbody tr th:only-of-type {\n",
       "        vertical-align: middle;\n",
       "    }\n",
       "\n",
       "    .dataframe tbody tr th {\n",
       "        vertical-align: top;\n",
       "    }\n",
       "\n",
       "    .dataframe thead th {\n",
       "        text-align: right;\n",
       "    }\n",
       "</style>\n",
       "<table border=\"1\" class=\"dataframe\">\n",
       "  <thead>\n",
       "    <tr style=\"text-align: right;\">\n",
       "      <th></th>\n",
       "      <th>question1</th>\n",
       "      <th>question2</th>\n",
       "    </tr>\n",
       "  </thead>\n",
       "  <tbody>\n",
       "    <tr>\n",
       "      <th>339499</th>\n",
       "      <td>Why was Cyrus Mistry removed as the Chairman o...</td>\n",
       "      <td>Why did the Tata Sons sacked Cyrus Mistry?</td>\n",
       "    </tr>\n",
       "    <tr>\n",
       "      <th>289521</th>\n",
       "      <td>By what age would you think a man should be ma...</td>\n",
       "      <td>When my wrist is extended I feel a shock and b...</td>\n",
       "    </tr>\n",
       "    <tr>\n",
       "      <th>4665</th>\n",
       "      <td>How would an arbitrageur seek to capitalize gi...</td>\n",
       "      <td>How would an arbitrageur seek to capitalize gi...</td>\n",
       "    </tr>\n",
       "    <tr>\n",
       "      <th>54203</th>\n",
       "      <td>Why did Quora mark my question as incomplete?</td>\n",
       "      <td>Why does Quora detect my question as an incomp...</td>\n",
       "    </tr>\n",
       "    <tr>\n",
       "      <th>132566</th>\n",
       "      <td>What is it like working with Pivotal Labs as a...</td>\n",
       "      <td>What's it like to work at Pivotal Labs?</td>\n",
       "    </tr>\n",
       "  </tbody>\n",
       "</table>\n",
       "</div>"
      ],
      "text/plain": [
       "                                                question1  \\\n",
       "339499  Why was Cyrus Mistry removed as the Chairman o...   \n",
       "289521  By what age would you think a man should be ma...   \n",
       "4665    How would an arbitrageur seek to capitalize gi...   \n",
       "54203       Why did Quora mark my question as incomplete?   \n",
       "132566  What is it like working with Pivotal Labs as a...   \n",
       "\n",
       "                                                question2  \n",
       "339499         Why did the Tata Sons sacked Cyrus Mistry?  \n",
       "289521  When my wrist is extended I feel a shock and b...  \n",
       "4665    How would an arbitrageur seek to capitalize gi...  \n",
       "54203   Why does Quora detect my question as an incomp...  \n",
       "132566            What's it like to work at Pivotal Labs?  "
      ]
     },
     "execution_count": 27,
     "metadata": {},
     "output_type": "execute_result"
    }
   ],
   "source": [
    "ques_df = new_df[['question1','question2']]\n",
    "ques_df.head()"
   ]
  },
  {
   "cell_type": "code",
   "execution_count": 28,
   "id": "51776439-3a0d-47e9-b24c-b6313197119f",
   "metadata": {},
   "outputs": [
    {
     "name": "stdout",
     "output_type": "stream",
     "text": [
      "(30000, 8)\n"
     ]
    },
    {
     "data": {
      "text/html": [
       "<div>\n",
       "<style scoped>\n",
       "    .dataframe tbody tr th:only-of-type {\n",
       "        vertical-align: middle;\n",
       "    }\n",
       "\n",
       "    .dataframe tbody tr th {\n",
       "        vertical-align: top;\n",
       "    }\n",
       "\n",
       "    .dataframe thead th {\n",
       "        text-align: right;\n",
       "    }\n",
       "</style>\n",
       "<table border=\"1\" class=\"dataframe\">\n",
       "  <thead>\n",
       "    <tr style=\"text-align: right;\">\n",
       "      <th></th>\n",
       "      <th>is_duplicate</th>\n",
       "      <th>q1_len</th>\n",
       "      <th>q2_len</th>\n",
       "      <th>q1_num_words</th>\n",
       "      <th>q2_num_words</th>\n",
       "      <th>word_common</th>\n",
       "      <th>word_total</th>\n",
       "      <th>word_share</th>\n",
       "    </tr>\n",
       "  </thead>\n",
       "  <tbody>\n",
       "    <tr>\n",
       "      <th>339499</th>\n",
       "      <td>1</td>\n",
       "      <td>58</td>\n",
       "      <td>42</td>\n",
       "      <td>11</td>\n",
       "      <td>8</td>\n",
       "      <td>4</td>\n",
       "      <td>19</td>\n",
       "      <td>0.21</td>\n",
       "    </tr>\n",
       "    <tr>\n",
       "      <th>289521</th>\n",
       "      <td>0</td>\n",
       "      <td>52</td>\n",
       "      <td>105</td>\n",
       "      <td>11</td>\n",
       "      <td>22</td>\n",
       "      <td>2</td>\n",
       "      <td>32</td>\n",
       "      <td>0.06</td>\n",
       "    </tr>\n",
       "    <tr>\n",
       "      <th>4665</th>\n",
       "      <td>0</td>\n",
       "      <td>125</td>\n",
       "      <td>124</td>\n",
       "      <td>24</td>\n",
       "      <td>24</td>\n",
       "      <td>20</td>\n",
       "      <td>42</td>\n",
       "      <td>0.48</td>\n",
       "    </tr>\n",
       "    <tr>\n",
       "      <th>54203</th>\n",
       "      <td>1</td>\n",
       "      <td>45</td>\n",
       "      <td>60</td>\n",
       "      <td>8</td>\n",
       "      <td>10</td>\n",
       "      <td>5</td>\n",
       "      <td>18</td>\n",
       "      <td>0.28</td>\n",
       "    </tr>\n",
       "    <tr>\n",
       "      <th>132566</th>\n",
       "      <td>0</td>\n",
       "      <td>54</td>\n",
       "      <td>39</td>\n",
       "      <td>11</td>\n",
       "      <td>8</td>\n",
       "      <td>3</td>\n",
       "      <td>19</td>\n",
       "      <td>0.16</td>\n",
       "    </tr>\n",
       "  </tbody>\n",
       "</table>\n",
       "</div>"
      ],
      "text/plain": [
       "        is_duplicate  q1_len  q2_len  q1_num_words  q2_num_words  word_common  \\\n",
       "339499             1      58      42            11             8            4   \n",
       "289521             0      52     105            11            22            2   \n",
       "4665               0     125     124            24            24           20   \n",
       "54203              1      45      60             8            10            5   \n",
       "132566             0      54      39            11             8            3   \n",
       "\n",
       "        word_total  word_share  \n",
       "339499          19        0.21  \n",
       "289521          32        0.06  \n",
       "4665            42        0.48  \n",
       "54203           18        0.28  \n",
       "132566          19        0.16  "
      ]
     },
     "execution_count": 28,
     "metadata": {},
     "output_type": "execute_result"
    }
   ],
   "source": [
    "final_df = new_df.drop(columns=['id','qid1','qid2','question1','question2'])\n",
    "print(final_df.shape)\n",
    "final_df.head()"
   ]
  },
  {
   "cell_type": "code",
   "execution_count": 29,
   "id": "7a9df2fb-3b82-45fa-954b-8310f2a12ea3",
   "metadata": {},
   "outputs": [],
   "source": [
    "from sklearn.feature_extraction.text import CountVectorizer\n",
    "# merge texts\n",
    "questions = list(ques_df['question1']) + list(ques_df['question2'])\n",
    "\n",
    "cv = CountVectorizer(max_features=3000)\n",
    "q1_arr, q2_arr = np.vsplit(cv.fit_transform(questions).toarray(),2)"
   ]
  },
  {
   "cell_type": "code",
   "execution_count": 30,
   "id": "b3529ff2-80d8-4a7e-8005-dd37b887bfce",
   "metadata": {},
   "outputs": [
    {
     "data": {
      "text/plain": [
       "(30000, 6000)"
      ]
     },
     "execution_count": 30,
     "metadata": {},
     "output_type": "execute_result"
    }
   ],
   "source": [
    "temp_df1 = pd.DataFrame(q1_arr, index= ques_df.index)\n",
    "temp_df2 = pd.DataFrame(q2_arr, index= ques_df.index)\n",
    "temp_df = pd.concat([temp_df1, temp_df2], axis=1)\n",
    "temp_df.shape"
   ]
  },
  {
   "cell_type": "code",
   "execution_count": 31,
   "id": "49dd0f4f-2e05-435e-ac98-f1740dbfc319",
   "metadata": {},
   "outputs": [
    {
     "name": "stdout",
     "output_type": "stream",
     "text": [
      "(30000, 6008)\n"
     ]
    },
    {
     "data": {
      "text/html": [
       "<div>\n",
       "<style scoped>\n",
       "    .dataframe tbody tr th:only-of-type {\n",
       "        vertical-align: middle;\n",
       "    }\n",
       "\n",
       "    .dataframe tbody tr th {\n",
       "        vertical-align: top;\n",
       "    }\n",
       "\n",
       "    .dataframe thead th {\n",
       "        text-align: right;\n",
       "    }\n",
       "</style>\n",
       "<table border=\"1\" class=\"dataframe\">\n",
       "  <thead>\n",
       "    <tr style=\"text-align: right;\">\n",
       "      <th></th>\n",
       "      <th>is_duplicate</th>\n",
       "      <th>q1_len</th>\n",
       "      <th>q2_len</th>\n",
       "      <th>q1_num_words</th>\n",
       "      <th>q2_num_words</th>\n",
       "      <th>word_common</th>\n",
       "      <th>word_total</th>\n",
       "      <th>word_share</th>\n",
       "      <th>0</th>\n",
       "      <th>1</th>\n",
       "      <th>...</th>\n",
       "      <th>2990</th>\n",
       "      <th>2991</th>\n",
       "      <th>2992</th>\n",
       "      <th>2993</th>\n",
       "      <th>2994</th>\n",
       "      <th>2995</th>\n",
       "      <th>2996</th>\n",
       "      <th>2997</th>\n",
       "      <th>2998</th>\n",
       "      <th>2999</th>\n",
       "    </tr>\n",
       "  </thead>\n",
       "  <tbody>\n",
       "    <tr>\n",
       "      <th>339499</th>\n",
       "      <td>1</td>\n",
       "      <td>58</td>\n",
       "      <td>42</td>\n",
       "      <td>11</td>\n",
       "      <td>8</td>\n",
       "      <td>4</td>\n",
       "      <td>19</td>\n",
       "      <td>0.21</td>\n",
       "      <td>0</td>\n",
       "      <td>0</td>\n",
       "      <td>...</td>\n",
       "      <td>0</td>\n",
       "      <td>0</td>\n",
       "      <td>0</td>\n",
       "      <td>0</td>\n",
       "      <td>0</td>\n",
       "      <td>0</td>\n",
       "      <td>0</td>\n",
       "      <td>0</td>\n",
       "      <td>0</td>\n",
       "      <td>0</td>\n",
       "    </tr>\n",
       "    <tr>\n",
       "      <th>289521</th>\n",
       "      <td>0</td>\n",
       "      <td>52</td>\n",
       "      <td>105</td>\n",
       "      <td>11</td>\n",
       "      <td>22</td>\n",
       "      <td>2</td>\n",
       "      <td>32</td>\n",
       "      <td>0.06</td>\n",
       "      <td>0</td>\n",
       "      <td>0</td>\n",
       "      <td>...</td>\n",
       "      <td>0</td>\n",
       "      <td>0</td>\n",
       "      <td>0</td>\n",
       "      <td>0</td>\n",
       "      <td>0</td>\n",
       "      <td>0</td>\n",
       "      <td>0</td>\n",
       "      <td>0</td>\n",
       "      <td>0</td>\n",
       "      <td>0</td>\n",
       "    </tr>\n",
       "    <tr>\n",
       "      <th>4665</th>\n",
       "      <td>0</td>\n",
       "      <td>125</td>\n",
       "      <td>124</td>\n",
       "      <td>24</td>\n",
       "      <td>24</td>\n",
       "      <td>20</td>\n",
       "      <td>42</td>\n",
       "      <td>0.48</td>\n",
       "      <td>0</td>\n",
       "      <td>0</td>\n",
       "      <td>...</td>\n",
       "      <td>0</td>\n",
       "      <td>0</td>\n",
       "      <td>0</td>\n",
       "      <td>0</td>\n",
       "      <td>0</td>\n",
       "      <td>0</td>\n",
       "      <td>0</td>\n",
       "      <td>0</td>\n",
       "      <td>0</td>\n",
       "      <td>0</td>\n",
       "    </tr>\n",
       "    <tr>\n",
       "      <th>54203</th>\n",
       "      <td>1</td>\n",
       "      <td>45</td>\n",
       "      <td>60</td>\n",
       "      <td>8</td>\n",
       "      <td>10</td>\n",
       "      <td>5</td>\n",
       "      <td>18</td>\n",
       "      <td>0.28</td>\n",
       "      <td>0</td>\n",
       "      <td>0</td>\n",
       "      <td>...</td>\n",
       "      <td>0</td>\n",
       "      <td>0</td>\n",
       "      <td>0</td>\n",
       "      <td>0</td>\n",
       "      <td>0</td>\n",
       "      <td>0</td>\n",
       "      <td>0</td>\n",
       "      <td>0</td>\n",
       "      <td>0</td>\n",
       "      <td>0</td>\n",
       "    </tr>\n",
       "    <tr>\n",
       "      <th>132566</th>\n",
       "      <td>0</td>\n",
       "      <td>54</td>\n",
       "      <td>39</td>\n",
       "      <td>11</td>\n",
       "      <td>8</td>\n",
       "      <td>3</td>\n",
       "      <td>19</td>\n",
       "      <td>0.16</td>\n",
       "      <td>0</td>\n",
       "      <td>0</td>\n",
       "      <td>...</td>\n",
       "      <td>0</td>\n",
       "      <td>0</td>\n",
       "      <td>0</td>\n",
       "      <td>0</td>\n",
       "      <td>0</td>\n",
       "      <td>0</td>\n",
       "      <td>0</td>\n",
       "      <td>0</td>\n",
       "      <td>0</td>\n",
       "      <td>0</td>\n",
       "    </tr>\n",
       "  </tbody>\n",
       "</table>\n",
       "<p>5 rows × 6008 columns</p>\n",
       "</div>"
      ],
      "text/plain": [
       "        is_duplicate  q1_len  q2_len  q1_num_words  q2_num_words  word_common  \\\n",
       "339499             1      58      42            11             8            4   \n",
       "289521             0      52     105            11            22            2   \n",
       "4665               0     125     124            24            24           20   \n",
       "54203              1      45      60             8            10            5   \n",
       "132566             0      54      39            11             8            3   \n",
       "\n",
       "        word_total  word_share  0  1  ...  2990  2991  2992  2993  2994  2995  \\\n",
       "339499          19        0.21  0  0  ...     0     0     0     0     0     0   \n",
       "289521          32        0.06  0  0  ...     0     0     0     0     0     0   \n",
       "4665            42        0.48  0  0  ...     0     0     0     0     0     0   \n",
       "54203           18        0.28  0  0  ...     0     0     0     0     0     0   \n",
       "132566          19        0.16  0  0  ...     0     0     0     0     0     0   \n",
       "\n",
       "        2996  2997  2998  2999  \n",
       "339499     0     0     0     0  \n",
       "289521     0     0     0     0  \n",
       "4665       0     0     0     0  \n",
       "54203      0     0     0     0  \n",
       "132566     0     0     0     0  \n",
       "\n",
       "[5 rows x 6008 columns]"
      ]
     },
     "execution_count": 31,
     "metadata": {},
     "output_type": "execute_result"
    }
   ],
   "source": [
    "final_df = pd.concat([final_df, temp_df], axis=1)\n",
    "print(final_df.shape)\n",
    "final_df.head()"
   ]
  },
  {
   "cell_type": "code",
   "execution_count": 32,
   "id": "7665107a-5cb8-41ec-8c73-d20db628571f",
   "metadata": {},
   "outputs": [],
   "source": [
    "from sklearn.model_selection import train_test_split\n",
    "X_train,X_test,y_train,y_test = train_test_split(final_df.iloc[:,1:].values,final_df.iloc[:,0].values,test_size=0.2,random_state=1)"
   ]
  },
  {
   "cell_type": "code",
   "execution_count": 33,
   "id": "423249c4-a988-4775-b81f-9eb931729577",
   "metadata": {},
   "outputs": [
    {
     "data": {
      "text/plain": [
       "0.7653333333333333"
      ]
     },
     "execution_count": 33,
     "metadata": {},
     "output_type": "execute_result"
    }
   ],
   "source": [
    "from sklearn.ensemble import RandomForestClassifier\n",
    "from sklearn.metrics import accuracy_score\n",
    "rf = RandomForestClassifier()\n",
    "rf.fit(X_train,y_train)\n",
    "y_pred = rf.predict(X_test)\n",
    "accuracy_score(y_test,y_pred)"
   ]
  },
  {
   "cell_type": "code",
   "execution_count": 34,
   "id": "d3370107-334f-49bd-96d9-eb9995a16573",
   "metadata": {},
   "outputs": [
    {
     "data": {
      "text/plain": [
       "0.7676666666666667"
      ]
     },
     "execution_count": 34,
     "metadata": {},
     "output_type": "execute_result"
    }
   ],
   "source": [
    "from xgboost import XGBClassifier\n",
    "xgb = XGBClassifier()\n",
    "xgb.fit(X_train,y_train)\n",
    "y_pred = xgb.predict(X_test)\n",
    "accuracy_score(y_test,y_pred)"
   ]
  },
  {
   "cell_type": "code",
   "execution_count": null,
   "id": "8e808efc-053e-4fac-8d22-543c644e176a",
   "metadata": {},
   "outputs": [],
   "source": []
  }
 ],
 "metadata": {
  "kernelspec": {
   "display_name": "Python 3 (ipykernel)",
   "language": "python",
   "name": "python3"
  },
  "language_info": {
   "codemirror_mode": {
    "name": "ipython",
    "version": 3
   },
   "file_extension": ".py",
   "mimetype": "text/x-python",
   "name": "python",
   "nbconvert_exporter": "python",
   "pygments_lexer": "ipython3",
   "version": "3.12.5"
  }
 },
 "nbformat": 4,
 "nbformat_minor": 5
}
